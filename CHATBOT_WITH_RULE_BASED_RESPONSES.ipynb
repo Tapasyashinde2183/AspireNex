{
  "nbformat": 4,
  "nbformat_minor": 0,
  "metadata": {
    "colab": {
      "provenance": []
    },
    "kernelspec": {
      "name": "python3",
      "display_name": "Python 3"
    },
    "language_info": {
      "name": "python"
    }
  },
  "cells": [
    {
      "cell_type": "code",
      "execution_count": null,
      "metadata": {
        "colab": {
          "base_uri": "https://localhost:8080/"
        },
        "id": "EDjVFUSGhX_t",
        "outputId": "d1c03160-4e70-45fb-ccfc-242d05c83635"
      },
      "outputs": [
        {
          "output_type": "stream",
          "name": "stdout",
          "text": [
            "Requirement already satisfied: nltk in /usr/local/lib/python3.10/dist-packages (3.8.1)\n",
            "Requirement already satisfied: click in /usr/local/lib/python3.10/dist-packages (from nltk) (8.1.7)\n",
            "Requirement already satisfied: joblib in /usr/local/lib/python3.10/dist-packages (from nltk) (1.4.2)\n",
            "Requirement already satisfied: regex>=2021.8.3 in /usr/local/lib/python3.10/dist-packages (from nltk) (2024.5.15)\n",
            "Requirement already satisfied: tqdm in /usr/local/lib/python3.10/dist-packages (from nltk) (4.66.4)\n"
          ]
        }
      ],
      "source": [
        "pip install nltk\n"
      ]
    },
    {
      "cell_type": "code",
      "source": [
        "import nltk\n",
        "nltk.download('punkt')\n",
        "nltk.download('wordnet')\n"
      ],
      "metadata": {
        "colab": {
          "base_uri": "https://localhost:8080/"
        },
        "id": "bd6ySktXhlum",
        "outputId": "6ebd1b07-e2ca-44d5-c48c-9507a7462d62"
      },
      "execution_count": null,
      "outputs": [
        {
          "output_type": "stream",
          "name": "stderr",
          "text": [
            "[nltk_data] Downloading package punkt to /root/nltk_data...\n",
            "[nltk_data]   Unzipping tokenizers/punkt.zip.\n",
            "[nltk_data] Downloading package wordnet to /root/nltk_data...\n"
          ]
        },
        {
          "output_type": "execute_result",
          "data": {
            "text/plain": [
              "True"
            ]
          },
          "metadata": {},
          "execution_count": 2
        }
      ]
    },
    {
      "cell_type": "code",
      "source": [
        "import nltk\n",
        "from nltk.tokenize import word_tokenize\n",
        "from nltk.corpus import wordnet\n",
        "\n",
        "# Function to get synonyms for a word\n",
        "def get_synonyms(word):\n",
        "    synonyms = []\n",
        "    for syn in wordnet.synsets(word):\n",
        "        for lemma in syn.lemmas():\n",
        "            synonyms.append(lemma.name())\n",
        "    return set(synonyms)\n",
        "\n",
        "# Define a simple rule-based response function\n",
        "def respond(user_input):\n",
        "    user_input = user_input.lower()\n",
        "    tokens = word_tokenize(user_input)\n",
        "\n",
        "    if any(word in tokens for word in [\"hi\", \"hello\", \"hey\"]):\n",
        "        return \"Hello! How can I help you today?\"\n",
        "    elif any(word in tokens for word in [\"bye\",\"by\",\"goodbye\", \"see you\"]):\n",
        "        return \"Goodbye! Have a great day!\"\n",
        "    elif any(word in tokens for word in get_synonyms(\"weather\",\"todays wether\")):\n",
        "        return \"The weather is sunny today.\"\n",
        "    elif any(word in tokens for word in get_synonyms(\"name\")):\n",
        "        return \"I am a chatbot created to assist you.\"\n",
        "    elif any(word in tokens for word in get_synonyms(\"help\")):\n",
        "        return \"I'm here to help you. What do you need assistance with?\"\n",
        "    elif any(word in tokens for word in get_synonyms(\" your hobbies?\")):\n",
        "        return \"I am here to assist you\"\n",
        "    else:\n",
        "        return \"I'm sorry, I don't understand that. Can you please rephrase?\"\n",
        "\n",
        "# Main loop to interact with the user\n",
        "def chatbot():\n",
        "    print(\"Welcome to the rule-based chatbot. Type 'bye' to exit.\")\n",
        "    while True:\n",
        "        user_input = input(\"You: \")\n",
        "        if user_input.lower() in [\"bye\", \"goodbye\", \"exit\"]:\n",
        "            print(\"Bot: Goodbye! Have a great day!\")\n",
        "            break\n",
        "        response = respond(user_input)\n",
        "        print(\"Bot:\", response)\n",
        "\n",
        "# Run the chatbot\n",
        "if __name__ == \"__main__\":\n",
        "    chatbot()\n"
      ],
      "metadata": {
        "colab": {
          "base_uri": "https://localhost:8080/"
        },
        "id": "LsuPlHVxhn2C",
        "outputId": "20dc8c34-49cb-40f0-c09d-d4d80afd26f1"
      },
      "execution_count": null,
      "outputs": [
        {
          "output_type": "stream",
          "name": "stdout",
          "text": [
            "Welcome to the rule-based chatbot. Type 'bye' to exit.\n",
            "You: hi\n",
            "Bot: Hello! How can I help you today?\n",
            "You: name\n",
            "Bot: I am a chatbot created to assist you.\n",
            "You: by\n",
            "Bot: I'm sorry, I don't understand that. Can you please rephrase?\n",
            "You: bye\n",
            "Bot: Goodbye! Have a great day!\n"
          ]
        }
      ]
    }
  ]
}